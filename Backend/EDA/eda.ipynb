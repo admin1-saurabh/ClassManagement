{
 "cells": [
  {
   "cell_type": "code",
   "execution_count": 4,
   "metadata": {},
   "outputs": [
    {
     "name": "stdout",
     "output_type": "stream",
     "text": [
      "\n"
     ]
    }
   ],
   "source": [
    "from dotenv import load_dotenv\n",
    "load_dotenv()\n",
    "import os\n",
    "\n",
    "postgres_endpoint = os.getenv('POSTGRE_SQL_ENDPOINT')\n",
    "print(postgres_endpoint)"
   ]
  },
  {
   "cell_type": "code",
   "execution_count": null,
   "metadata": {},
   "outputs": [],
   "source": [
    "import psycopg2\n",
    "conn = psycopg2.connect()\n",
    "cur = conn.cursor()"
   ]
  },
  {
   "cell_type": "code",
   "execution_count": null,
   "metadata": {},
   "outputs": [
    {
     "name": "stdout",
     "output_type": "stream",
     "text": [
      "Tables in the database:\n",
      "assigns\n",
      "bookings\n",
      "classrooms\n",
      "classrooms_assigns\n",
      "students\n",
      "teachers\n",
      "test_attempts\n",
      "tests\n",
      "users\n"
     ]
    }
   ],
   "source": [
    "query = \"\"\"\n",
    "SELECT table_name\n",
    "FROM information_schema.tables\n",
    "WHERE table_schema = 'public';\n",
    "\"\"\"\n",
    "conn = psycopg2.connect('postgres_endpoint')\n",
    "cur = conn.cursor()\n",
    "cur.execute(query)\n",
    "tables = cur.fetchall()\n",
    "conn.close()\n",
    "print(\"Tables in the database:\")\n",
    "for table in tables:\n",
    "    print(table[0])"
   ]
  },
  {
   "cell_type": "code",
   "execution_count": null,
   "metadata": {},
   "outputs": [],
   "source": [
    "# -- Table for students\n",
    "\n",
    "create_students_table = \"\"\"\n",
    "CREATE TABLE students (\n",
    "    student_id TEXT PRIMARY KEY,\n",
    "    student_class_id TEXT, \n",
    "    name VARCHAR(100) NOT NULL,\n",
    "    email VARCHAR(255) UNIQUE NOT NULL,\n",
    "    password TEXT\n",
    ");\"\"\"\n",
    "\n",
    "# -- Table for teachers\n",
    "create_teachers_table = \"\"\"\n",
    "CREATE TABLE teachers (\n",
    "    teacher_id TEXT PRIMARY KEY,\n",
    "    name VARCHAR(100) NOT NULL,\n",
    "    email VARCHAR(255) UNIQUE NOT NULL,\n",
    "    password TEXT\n",
    ");\"\"\"\n",
    "\n",
    "# -- Table for classrooms\n",
    "create_classrooms_table = \"\"\"\n",
    "CREATE TABLE classrooms (\n",
    "    classroom_id TEXT PRIMARY KEY,\n",
    "    teacher_id TEXT NOT NULL REFERENCES teachers(teacher_id) ON DELETE CASCADE,\n",
    "    name VARCHAR(100) NOT NULL,\n",
    "    description TEXT,\n",
    "    class_id VARCHAR(15) NOT NULL,\n",
    "    created_at TIMESTAMP DEFAULT CURRENT_TIMESTAMP\n",
    ");\"\"\"\n",
    "\n",
    "# -- Table for classrooms assignment for students\n",
    "create_student_classroom_assigns_table = \"\"\"\n",
    "CREATE TABLE classrooms_assigns (\n",
    "    assignment_id TEXT PRIMARY KEY, \n",
    "    classroom_id TEXT,\n",
    "    student_id TEXT, \n",
    "    UNIQUE (classroom_id, student_id)  \n",
    ");\"\"\"\n",
    "\n",
    "# -- Table for tests\n",
    "create_tests_table = \"\"\"\n",
    "CREATE TABLE tests (\n",
    "    test_id TEXT PRIMARY KEY,\n",
    "    classroom_id TEXT NOT NULL REFERENCES classrooms(classroom_id) ON DELETE CASCADE,\n",
    "    name VARCHAR(100) NOT NULL,\n",
    "    description TEXT,\n",
    "    max_marks INT NOT NULL,\n",
    "    schedule_time TIMESTAMP, \n",
    "    created_at TIMESTAMP DEFAULT CURRENT_TIMESTAMP\n",
    ");\"\"\"\n",
    "\n",
    "# -- Table for test attempts\n",
    "create_attempts_table = \"\"\"\n",
    "CREATE TABLE test_attempts (\n",
    "    attempt_id TEXT PRIMARY KEY,\n",
    "    test_id TEXT NOT NULL REFERENCES tests(test_id) ON DELETE CASCADE,\n",
    "    student_id TEXT NOT NULL REFERENCES students(student_id) ON DELETE CASCADE,\n",
    "    answer TEXT NOT NULL,\n",
    "    marks_obtained INT,\n",
    "    attempt_date TIMESTAMP DEFAULT CURRENT_TIMESTAMP,\n",
    "    UNIQUE (test_id, student_id)  \n",
    ");\"\"\"\n",
    "queries = [\n",
    "    create_students_table,\n",
    "    create_teachers_table,\n",
    "    create_classrooms_table,\n",
    "    create_tests_table,\n",
    "    create_attempts_table,\n",
    "    create_student_classroom_assigns_table\n",
    "]\n",
    "for query in queries: \n",
    "    try: \n",
    "        conn = psycopg2.connect('postgres_endpoint')\n",
    "        cur = conn.cursor()\n",
    "        cur.execute(query)\n",
    "        conn.commit()\n",
    "        conn.close()\n",
    "    except Exception as e: \n",
    "        print(e)"
   ]
  },
  {
   "cell_type": "code",
   "execution_count": null,
   "metadata": {},
   "outputs": [],
   "source": [
    "drop_students_table = \"DROP TABLE IF EXISTS students CASCADE;\"\n",
    "drop_teachers_table = \"DROP TABLE IF EXISTS teachers CASCADE;\"\n",
    "drop_classrooms_table = \"DROP TABLE IF EXISTS classrooms CASCADE;\"\n",
    "drop_tests_table = \"DROP TABLE IF EXISTS tests CASCADE;\"\n",
    "drop_attempts_table = \"DROP TABLE IF EXISTS test_attempts CASCADE;\"\n",
    "drop_classrooms_assigns_table = \"DROP TABLE IF EXISTS classrooms_assigns CASCADE;\"\n",
    "\n",
    "drop_queries = [\n",
    "    drop_students_table,\n",
    "    drop_teachers_table,\n",
    "    drop_classrooms_table,\n",
    "    drop_tests_table,\n",
    "    drop_attempts_table,\n",
    "    drop_classrooms_assigns_table\n",
    "]\n",
    "for query in drop_queries: \n",
    "    try: \n",
    "        conn = psycopg2.connect('postgres_endpoint')\n",
    "        cur = conn.cursor()\n",
    "        cur.execute(query)\n",
    "        conn.commit()\n",
    "        conn.close()\n",
    "    except Exception as e: \n",
    "        print(e)"
   ]
  },
  {
   "cell_type": "code",
   "execution_count": null,
   "metadata": {},
   "outputs": [
    {
     "name": "stdout",
     "output_type": "stream",
     "text": [
      "[('a87cbdb1-5a34-4242-916a-875b8c10892d', '03eb40cd-8caa-469e-ab40-4284bd089e19', 'abbd250b-0c5d-4894-b5e6-43904e95dd16', '1. Rabin-Karp handles hash collisions by recomputing the entire hash for overlapping substrings.\\n2. Monte Carlo algorithms may return incorrect results but always terminate in bounded time.\\n3. n KMP, the partial match table stores the indices of mismatched characters.\\n4. Randomized QuickSort achieves an average-case complexity of O(n log n).\\n5. The minimum cut of a graph can always be determined in O(V^2) time using randomized contraction.', 23, datetime.datetime(2024, 12, 8, 16, 13, 22, 21752)), ('7807fb75-8ee4-40f9-8c03-697b98517c87', '03eb40cd-8caa-469e-ab40-4284bd089e19', '4e7c1aff-6a3e-478f-96ff-facd9c5c44b6', '1. Rabin-Karp handles hash collisions by recomputing the entire hash for overlapping substrings.\\n2. Monte Carlo algorithms may return incorrect results but always terminate in bounded time.\\n3. n KMP, the partial match table stores the indices of mismatched characters.\\n4. Randomized QuickSort achieves an average-case complexity of O(n log n).\\n5. The minimum cut of a graph can always be determined in O(V^2) time using randomized contraction.', -1, datetime.datetime(2024, 12, 8, 16, 27, 32, 934015)), ('96e963ff-be38-417f-a7d1-ece40ba8a857', '03eb40cd-8caa-469e-ab40-4284bd089e19', '4e5d8ea6-dae3-43a4-b149-8095e88e0e44', '1. Rabin-Karp handles hash collisions by recomputing the entire hash for overlapping substrings.\\n2. Monte Carlo algorithms may return incorrect results but always terminate in bounded time.\\n3. n KMP, the partial match table stores the indices of mismatched characters.\\n4. Randomized QuickSort achieves an average-case complexity of O(n log n).\\n5. The minimum cut of a graph can always be determined in O(V^2) time using randomized contraction.', 10, datetime.datetime(2024, 12, 8, 16, 28, 6, 898090)), ('578df8c7-f747-4562-af5f-8cbfa035b7f7', '3ac1851c-023a-4ee3-b9b5-bfe628144fda', '4e5d8ea6-dae3-43a4-b149-8095e88e0e44', 'To compute the convex hull of a set of points in 2D, Graham\\'s Scan sorts the points by polar angle relative to the leftmost point and iteratively adds them to the hull while maintaining convexity, achieving O(n log n) time complexity. Alternatively, Jarvis March (\"gift wrapping\") incrementally selects the outermost point in a counterclockwise direction, running in O(nh), where h is the number of hull vertices. Detecting intersections among n line segments using the Sweep Line Algorithm has a time complexity of O(n log n + k), where k is the number of intersections. To determine whether a point lies inside a polygon, the Ray Casting method counts ray crossings of polygon edges, while the Winding Number method computes the sum of angles subtended by polygon edges, both running in O(n).\\n', -1, datetime.datetime(2024, 12, 9, 18, 49, 38, 407161))]\n",
      "4\n"
     ]
    }
   ],
   "source": [
    "query = \"\"\"\n",
    "SELECT * from test_attempts;\n",
    "\"\"\"\n",
    "conn = psycopg2.connect('postgres_endpoint')\n",
    "cur = conn.cursor()\n",
    "cur.execute(query)\n",
    "entries = cur.fetchall()\n",
    "conn.close()\n",
    "print(entries)\n",
    "print(len(entries))"
   ]
  },
  {
   "cell_type": "code",
   "execution_count": 4,
   "metadata": {},
   "outputs": [
    {
     "name": "stdout",
     "output_type": "stream",
     "text": [
      "2024-12-08 14:45:32\n"
     ]
    }
   ],
   "source": [
    "from datetime import datetime \n",
    "now = datetime.now().strftime(\"%Y-%m-%d %H:%M:%S\")\n",
    "print(now)"
   ]
  }
 ],
 "metadata": {
  "kernelspec": {
   "display_name": "environment",
   "language": "python",
   "name": "python3"
  },
  "language_info": {
   "codemirror_mode": {
    "name": "ipython",
    "version": 3
   },
   "file_extension": ".py",
   "mimetype": "text/x-python",
   "name": "python",
   "nbconvert_exporter": "python",
   "pygments_lexer": "ipython3",
   "version": "3.12.6"
  }
 },
 "nbformat": 4,
 "nbformat_minor": 2
}
